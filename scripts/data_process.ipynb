{
 "cells": [
  {
   "cell_type": "code",
   "execution_count": null,
   "id": "4a51d7b1-83c5-4170-9d29-61d572a714a2",
   "metadata": {},
   "outputs": [],
   "source": [
    "import pandas as pd\n",
    "from rdkit import Chem"
   ]
  },
  {
   "cell_type": "code",
   "execution_count": null,
   "id": "b565a142-6b38-4292-820e-d8464834e005",
   "metadata": {},
   "outputs": [],
   "source": [
    "def canonicalize_smiles(smiles):\n",
    "        try:\n",
    "            mol = Chem.MolFromSmiles(smiles)\n",
    "            if mol:\n",
    "                return Chem.MolToSmiles(mol)\n",
    "            else:\n",
    "                return None\n",
    "        except:\n",
    "            return None"
   ]
  },
  {
   "cell_type": "code",
   "execution_count": null,
   "id": "bbdbde43-1ce4-4510-9c2d-19edc1bcaca9",
   "metadata": {},
   "outputs": [],
   "source": [
    "file = pd.read_excel(\"./T2_data_new.xlsx\")\n",
    "file['canonicalsmiles'] = file['canonicalsmiles'].apply(canonicalize_smiles)\n",
    "file.to_excel(\"./T2_data_new_norm.xlsx\", index=False)"
   ]
  }
 ],
 "metadata": {
  "kernelspec": {
   "display_name": "trans",
   "language": "python",
   "name": "trans"
  },
  "language_info": {
   "codemirror_mode": {
    "name": "ipython",
    "version": 3
   },
   "file_extension": ".py",
   "mimetype": "text/x-python",
   "name": "python",
   "nbconvert_exporter": "python",
   "pygments_lexer": "ipython3",
   "version": "3.8.10"
  }
 },
 "nbformat": 4,
 "nbformat_minor": 5
}
